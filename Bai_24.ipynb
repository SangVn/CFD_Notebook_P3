{
 "cells": [
  {
   "cell_type": "markdown",
   "metadata": {},
   "source": [
    "Tài liệu này mang giấy phép Creative Commons Attribution (CC BY). (c) Nguyễn Ngọc Sáng, Zhukovsky 06/2019.\n",
    "\n",
    "[@SangVn](https://github.com/SangVn) [@VnCFD](https://vncfdgroup.wordpress.com/)\n",
    "\n",
    "*Thực hành CFD với Python!*"
   ]
  },
  {
   "cell_type": "markdown",
   "metadata": {},
   "source": [
    "# Bài 24. Bài toán dòng chảy quanh hình trụ, NACA0012, Crew Dragon. Điều kiện biên *joint, farfield*.\n",
    "\n",
    "Để giải một bài toán bất kì, ta cần thay đổi: **lưới và thông số trong module setup**. \n",
    "\n",
    "## 1. Dòng chảy quanh hình trụ\n",
    "\n",
    "**Bài toán:**\n",
    "<br> Xác định dòng chảy quanh hình trụ bán kính 1m với thông số dòng chảy tự do: $T=293.15 (K), (u,v) = (40, 0) (m/s), p = 101325 (Pa)$\n",
    "\n",
    "### a. Tạo lưới \n",
    "Để sử dụng các hàm tạo dữ liệu Cells, Sides đòi hỏi ta tạo lưới **đúng thứ tự quy ước** như khi tạo lưới cho bài toán dòng chảy trên âm. Tức là cần tạo lưới có các `biên` như trên hình (thứ tự theo chiều chỉ số i, j: biên 0, 1, 2, 3):\n",
    "<img src='img/Bai_24_2.png' width = 500>\n",
    "\n",
    "Đối với dòng chảy bao khi tạo lưới cần chú ý đến kích thước (độ dày) của lớp ô lưới đầu tiên trên bề mặt và tỉ lệ tăng kích thước này của hai lớp kế tiếp (thông thường lấy bằng 1.2)."
   ]
  },
  {
   "cell_type": "code",
   "execution_count": 3,
   "metadata": {},
   "outputs": [],
   "source": [
    "# %cd lib\n",
    "import numpy as np\n",
    "import matplotlib.pyplot as plt\n",
    "from functions import export_mesh\n",
    "\n",
    "# Tạo lưới bài toán dòng chảy quanh hình trụ\n",
    "def generate_mesh_cylinder(Nj, Ni):\n",
    "    # chia góc 2Pi ra thành Ni điểm lưới \n",
    "    alpha = np.linspace(0.0, -2*np.pi, Ni)\n",
    "    \n",
    "    # bán kính tại các điểm lưới  \n",
    "    r = np.zeros(Nj)\n",
    "    r[0] = 1.0  # bán kính hình trụ \n",
    "    dr = 1e-2   # kích thước ('dộ dày') ô lưới đầu tiên sát biên (bề mặt trụ)\n",
    "    ratio = 1.2 # tỷ lệ tăng kích thước ô lưới \n",
    "    for j in range(1, Nj):\n",
    "        r[j] = r[j-1]+dr\n",
    "        dr *= ratio \n",
    "    \n",
    "    # tạo độ điểm lưới \n",
    "    points = np.zeros((Nj, Ni, 2))\n",
    "    for j in range(Nj):\n",
    "        for i in range(Ni):\n",
    "            points[j, i, 0] = r[j]*np.cos(alpha[i])\n",
    "            points[j, i, 1] = r[j]*np.sin(alpha[i])\n",
    "    return points"
   ]
  },
  {
   "cell_type": "code",
   "execution_count": 2,
   "metadata": {},
   "outputs": [
    {
     "data": {
      "image/png": "[encoded data removed]",
      "text/plain": [
       "<Figure size 432x288 with 1 Axes>"
      ]
     },
     "metadata": {
      "needs_background": "light"
     },
     "output_type": "display_data"
    }
   ],
   "source": [
    "Nj = 41\n",
    "Ni = 61\n",
    "points = generate_mesh_cylinder(Nj, Ni)\n",
    "plt.plot(points[:, :, 0], points[:, :, 1], 'r+')\n",
    "plt.show()\n",
    "# export_mesh(Nj, Ni, points, 'data/mesh_cylinder.dat')"
   ]
  },
  {
   "cell_type": "markdown",
   "metadata": {},
   "source": [
    "### b. Điều kiện biên\n",
    "\n",
    "Đối với bài toán dòng chảy trên âm ta có 4 điều kiện biên `(0, 1, 2, 3)` lần lượt là `(supersonic_inflow, supersonic_outflow, wall, wall)`. Còn với bài toán này thì sao? Dễ dàng nhận thấy: điều kiện tại `biên 2` là `wall`, `biên 0 và 1` trùng nhau ta gọi là `joint` (hay `điều kiện biên tuần hoàn`), `biên 3` ở xa bề mặt trụ ta gọi là `farfield` (khi tạo lưới chú ý để biên 3 ở `đủ xa` bề mặt trụ).\n",
    "\n",
    "- **Điều kiện 'joint'**:\n",
    "<br>`ô lưới bên trái biên 0 chính là ô lưới bên trái biên 1, ô lưới bên phải bên 1 chính là ô lưới bên phải biên 0 hay là side_0.cells[0] = side_1.cells[0], side_1.cells[1] = side_0.cells[1]` và khi đó các side ở trên biên trở thành inner_side (có đầy đủ hai ô lưới hai bên trái phải).\n",
    "- **Điều kiện 'farfield'**:\n",
    "<br>`nếu hướng vận tốc tại ô lưới phía trong biên là chảy vào thì thông số trên biên bằng thông số dòng tự do, ngược lại - thông số trên biên bằng thông số của ô lưới sát biên`:\n",
    "\n",
    "Thêm vào định nghĩa lớp Sides và module boco các hàm sau:"
   ]
  },
  {
   "cell_type": "code",
   "execution_count": null,
   "metadata": {},
   "outputs": [],
   "source": [
    "# Thêm vào định nghĩa lớp Sides, module 'data.py'\n",
    "\n",
    "# Trường hợp điều kiện biên tuần hoàn\n",
    "def set_joint(self, boundary_0, boundary_1):\n",
    "    for side_0, side_1 in zip(boundary_0, boundary_1):\n",
    "        side_0.cells[0] = side_1.cells[0] # set ô lưới bên trái của các side biên 0\n",
    "        self.inner_sides.append(side_0)   # side_0 trở thành inner_side "
   ]
  },
  {
   "cell_type": "code",
   "execution_count": null,
   "metadata": {},
   "outputs": [],
   "source": [
    "# Thêm vào module boco.py\n",
    "\n",
    "# Điều kiện biên farfield\n",
    "def farfield(boundary, ic):\n",
    "    for side in boundary:\n",
    "        V_in = side.cells[ic].P[1:3]  # vận tốc tại ô lưới phía trong biên \n",
    "        Vn = -sign_ic(ic)*side.normal.dot(V_in)  # hướng vận tốc so với phương pháp tuyến (quay ra) của biên \n",
    "        if Vn >= 0: # chảy ra\n",
    "            F = P2F(side.cells[ic].P, side)\n",
    "        else: # chảy vào \n",
    "            F = P2F(P_freestream, side)\n",
    "        side.cells[ic].res += sign_ic(ic) * F\n",
    "\n",
    "# Điều kiện biên joint\n",
    "def joint(boundary, ic):\n",
    "    pass # vì các side trên biên đã trở thành inner_side nên không phải làm gì hết tại đây \n",
    "\n",
    "# ta có `từ điển` điều kiện biên: <tên gọi> : <hàm đkb>\n",
    "boco_dict = {'supersonic_inflow': supersonic_inflow, 'supersonic_outflow': supersonic_outflow, 'wall': wall_no_slip, \\\n",
    "             'farfield': farfield, 'joint': joint}\n"
   ]
  },
  {
   "cell_type": "markdown",
   "metadata": {},
   "source": [
    "### c. setup\n",
    "Trong module setup ta thay đổi các thông thông số cần thiết:"
   ]
  },
  {
   "cell_type": "code",
   "execution_count": 4,
   "metadata": {},
   "outputs": [],
   "source": [
    "# coding: utf-8\n",
    "# Module setup.py\n",
    "\n",
    "from numpy import array\n",
    "from fluxes import flux_roe\n",
    "from boco import boco_dict, set_freestream\n",
    "from functions import P2U, rho\n",
    "\n",
    "# cylinder\n",
    "P_freestream = array([rho(293.15, 101325.0), 40, 0.0, 101325.0]) # freestream\n",
    "\n",
    "def init_field(cells):\n",
    "    P_t0 = P_freestream\n",
    "    U_t0 = P2U(P_t0)\n",
    "    for cell in cells[:]:\n",
    "        cell.P = P_t0.copy()\n",
    "        cell.U = U_t0.copy()\n",
    "    \n",
    "# điều kiện biên\n",
    "def set_boco(sides):\n",
    "    set_freestream(P_freestream)\n",
    "    boco_name = ['joint', 'joint', 'wall', 'farfield']\n",
    "    boco_func = [boco_dict[name] for name in boco_name]\n",
    "    sides.set_joint(sides.boundary_0, sides.boundary_1)\n",
    "    sides.set_boco(boco_func)\n",
    "\n",
    "# các thông số khác\n",
    "CFL = 0.45\n",
    "time_target = 1.0\n",
    "iter_target = None \n",
    "\n",
    "write_field_iter = 1000 # thời điểm ghi kết quả giữa chừng\n",
    "flux_func = flux_roe\n",
    "\n",
    "mesh_filename = 'data/cylinder_mesh.dat'\n",
    "field_filename = 'data/cylinder_cell_data.dat'"
   ]
  },
  {
   "cell_type": "markdown",
   "metadata": {},
   "source": [
    "### d. Kết quả\n",
    "\n",
    "Chạy module **run.py**, dùng Paraview biểu diễn kết quả, ta dễ dàng nhận ra sự khác biệt của 'cell_data' và 'block_data' (hay khi sử dụng hàm show_field với porc=0 hoặc 1):\n",
    "<img src='img\\Bai_24_3.png' width = 500>\n",
    "**Câu hỏi:** Tại sao lại có khoảng trống ở hình bên trái?\n",
    "\n",
    "Sử dụng filter CellDataToPointData trong paraview để chuyển block_data về point_data:\n",
    "- Bước 1. dùng ParaView mở file block_data\n",
    "- Bước 2. Apply filter: CellDataToPointData\n",
    "- Bước 3. xuất dữ liệu tại điểm lưới: save data -> 'filename.txt'\n",
    "\n",
    "Paraview:\n",
    "<img src='img\\Bai_24_4.png' width = 500>\n",
    "show_point_data:  \n",
    "<img src='img\\Bai_24_5.png' width = 500>\n"
   ]
  },
  {
   "cell_type": "markdown",
   "metadata": {},
   "source": [
    "## 2. Dòng chảy quanh NACA0012, Crew Dragon\n",
    "\n",
    "Đối với dòng chảy quanh những vật thể có hình dạng phức tạp hơn như NACA0012 hay Crew Dragon ta dùng phần mềm có sẵn để chia và xuất lưới ở dạng `.cgns` (xem trong folder data). Sau đó dùng `Paraview` để mở xem lưới, dùng `save data` để lưu lưới lại ở dạng `.dat` mà ta vẫn dùng. \n",
    "\n",
    "**Bài tập:** Tính toán dòng chảy bao quanh NACA0012 và Crew Dragon sử dụng lưới `.cgns` trong `folder data` với thông số ban đầu tùy ý.\n",
    "\n",
    "Ví dụ kết quả:\n",
    "\n",
    "NACA0012:\n",
    "<img src='img\\Bai_24_6.png'>\n",
    "Crew Dragon:\n",
    "<img src='img\\Bai_24_7.png'>"
   ]
  },
  {
   "cell_type": "markdown",
   "metadata": {},
   "source": [
    "# Kết luận\n",
    "\n",
    "Vậy là sau 7 bài học ta đã xây dựng được nền móng cơ bản cho chương trình giải hệ phương trình Euler 2D. Chương trình có thể sử đụng để giải các bài toán dòng chảy bên trong hay chảy bao quanh vật. Tuy nhiên khả năng ứng dụng, độ chính xác cũng như tốc độ tính toán còn hạn chế. Để phát triển chương trình cần cải thiện các vấn đề trên bằng cách nghiên cứu, bổ sung một số vấn đề:\n",
    "- mở rộng điều kiện biên\n",
    "- sử dụng sơ đồ bậc cao\n",
    "- sử dụng sơ đồ implicit\n",
    "- bổ sung phương pháp tính dòng\n",
    "- tính toán song song\n",
    "\n",
    "Phần 3 `Thực hành CFD với Python!` kết thúc tại đây. Chúc các bạn sức khỏe và may mắn!"
   ]
  },
  {
   "cell_type": "code",
   "execution_count": null,
   "metadata": {},
   "outputs": [],
   "source": []
  }
 ],
 "metadata": {
  "kernelspec": {
   "display_name": "Python 2",
   "language": "python",
   "name": "python2"
  },
  "language_info": {
   "codemirror_mode": {
    "name": "ipython",
    "version": 2
   },
   "file_extension": ".py",
   "mimetype": "text/x-python",
   "name": "python",
   "nbconvert_exporter": "python",
   "pygments_lexer": "ipython2",
   "version": "2.7.15+"
  }
 },
 "nbformat": 4,
 "nbformat_minor": 2
}

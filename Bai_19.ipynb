{
 "cells": [
  {
   "cell_type": "markdown",
   "metadata": {},
   "source": [
    "Tài liệu này mang giấy phép Creative Commons Attribution (CC BY). (c) Nguyễn Ngọc Sáng, Zhukovsky 06/2019.\n",
    "\n",
    "[@SangVn](https://github.com/SangVn) [@VnCFD](https://vncfdgroup.wordpress.com/)\n",
    "\n",
    "*Thực hành CFD với Python!*"
   ]
  },
  {
   "cell_type": "markdown",
   "metadata": {},
   "source": [
    "# Bài 19. Lưới có cấu trúc, bài toán dòng chảy trên âm qua dốc \n",
    "\n",
    "Khi nói tới vấn đề lưới, bạn có thể nghe thấy các từ khác như `chia lưới, dựng lưới, tạo lưới, vẽ lưới`, tất cả chúng đề chỉ việc xây dựng lưới để tính toán. Lưới được chia thành hai dạng cơ bản `có cấu trúc (structured) và không cấu trúc (unstructured)`. \n",
    "\n",
    "<img src='img\\Bai_19_0.png'>\n",
    "\n",
    "Điểm cộng của từng loại đó là: việc lưu trữ, sắp xếp lưới có cấu trúc dễ dàng, thuận tiện hơn; thời gian hội tụ nhanh hơn khi dùng lưới có cấu trúc, lưới không cấu trúc có thể chia tự động ngay cả với những vùng tính toán có dạng hình học phức tạp.\n",
    "\n",
    "Việc xây dựng chương trình tính toán phải dựa trên loại lưới được sử dụng. Trong khuôn khổ phần 3, chúng ta sẽ sử dụng `lưới có cấu trúc`. \n",
    "\n",
    "Tạo lưới là một công việc không hề dễ dàng nhất là khi vùng tính toán có dạng hình học phức tạp, khi đó ta phải sử dụng các phần mềm chia lưới có sẵn, trong trường hợp đơn giản ta có thể tự viết code. Lưới tạo ra có thể được lưu ở các định dạng khác nhau tùy chương trình chia lưới. Định dạng chuẩn mà các chương trình CFD đều có thể dùng đó là CGNS (CFD General Notation System). Trong bài này ta sẽ thực hành các thao tác với lưới: `chia lưới, lưu trữ lưới, đọc lưới, biểu diễn lưới`. \n",
    "\n",
    "## 1. Bài toán dòng chảy trên âm qua dốc\n",
    "\n",
    "Ví dụ đầu tiên mà ta sẽ tính là bài toán dòng chảy trên âm qua dốc:\n",
    "- Kích thước vùng tính toán, điều kiện biên như trên hình\n",
    "- Thông số dòng chảy vào: $T=293.15, u=660.0, v=0.0, p=101325.0$\n",
    "\n",
    "<img src='img\\Bai_19_1.png'>\n"
   ]
  },
  {
   "cell_type": "markdown",
   "metadata": {},
   "source": [
    "## 2. Chia lưới\n",
    "\n",
    "**Quy ước:** kí hiệu index *j - trục y, i - trục x*.\n",
    "\n",
    "Trường hợp tổng quát, ta chia vùng tính toán ra thành $(N_j-1) \\times (N_i-1)$ ô lưới. Như vậy sẽ có $(N_j \\times N_i)$ điểm lưới, mỗi điểm chứa hai giá trị tọa độ (x, y). Ta cần một mảng 3 chiều với kích thước $(N_j \\times N_i \\times 2$ để chứa tọa độ điểm lưới. Cách đơn giản là sử dụng thư viện *numpy*:\n",
    "\n",
    "`points = numpy.zeros((N_j, N_i, 2))`. Khi đó `points[j, i]` - điểm ở hàng j, cột i.\n",
    "\n",
    "**Bài tập:** Hãy chia lưới kích thước 40x100 ô \n",
    "\n",
    "Sau khi thực hiện xong bài tập trên, hãy đối chiếu với cách sau:"
   ]
  },
  {
   "cell_type": "code",
   "execution_count": 111,
   "metadata": {},
   "outputs": [],
   "source": [
    "# coding: utf-8\n",
    "# module mesh_generator.py \n",
    "\n",
    "import  numpy as np\n",
    "import matplotlib.pyplot as plt\n",
    "\n",
    "# Tạo lưới bài toán Mach 2\n",
    "def generate_mesh_M2(Nj, Ni): #Nj, Ni: số điểm lưới \n",
    "    # Kích thước vùng tính toán\n",
    "    ly, lx = 4.0, 10.0\n",
    "    \n",
    "    # Tạo mảng 3 chiều để chứa tọa độ các điểm lưới \n",
    "    points = np.zeros((Nj, Ni, 2))\n",
    "    \n",
    "    # tọa độ x tại các điểm lưới\n",
    "    dx = lx / Ni\n",
    "    x = np.linspace(0, lx, Ni)\n",
    "    \n",
    "    # tọa độ y của biên dưới\n",
    "    y0 = np.zeros(Ni)\n",
    "\n",
    "    # index i tương ứng vị trí x = 2, 4 trên biên dưới\n",
    "    i2 = int(2./dx)\n",
    "    i4 = int(4./dx)\n",
    "\n",
    "    y0[i2:i4] = (x[i2:i4]-2.)*np.tan(np.pi/12)\n",
    "    y0[i4:] = 2.0*np.tan(np.pi/12)\n",
    "\n",
    "    # khoảng cách dy giữa hai điểm cùng cột\n",
    "    dy = np.array([(ly-y)/(Nj-1) for y in y0])\n",
    "    \n",
    "    # xác định tọa độ (x, y) của từng điểm \n",
    "    for j in range(Nj):\n",
    "        for i in range(Ni):\n",
    "            points[j, i, 0] = x[i]\n",
    "            points[j, i, 1] = y0[i]+j*dy[i]\n",
    "\n",
    "    return points"
   ]
  },
  {
   "cell_type": "code",
   "execution_count": 113,
   "metadata": {},
   "outputs": [
    {
     "data": {
      "image/png": "[encoded data removed]",
      "text/plain": [
       "<Figure size 720x288 with 1 Axes>"
      ]
     },
     "metadata": {
      "needs_background": "light"
     },
     "output_type": "display_data"
    }
   ],
   "source": [
    "# Kiểm tra hàm chia lưới, vẽ lưới bằng pyplot\n",
    "Nj, Ni = 41, 101 #kích thước lưới \n",
    "points = generate_mesh_M2(Nj, Ni) #tọa độ điểm lưới \n",
    "fig = plt.figure(figsize=(10, 4))\n",
    "plt.plot(points[:, :, 0], points[:, :, 1], 'r+')\n",
    "plt.show()"
   ]
  },
  {
   "cell_type": "markdown",
   "metadata": {},
   "source": [
    "# 3. Xuất lưới\n",
    "\n",
    "Chúng ta sẽ lưu lưới và kết quả ở định dạng của `Tecplot` (tìm hiểu `Tecplot Data Format Guide`). Tuy nhiên ta sẽ sử dụng **ParaView** để xem lưới và kết quả. Bạn hãy cài đặt và học cách sử dụng chương trình này.  Đây là một phần mềm rất tiện lợi cho việc biểu diễn cũng như xử lý kết quả CFD.\n",
    "\n",
    "Ví dụ file `field.dat` có cấu trúc như sau:\n",
    "\n",
    "`TITLE = \"vncfd python\"\n",
    "VARIABLES = \"X\", \"Y\", \"Z\", \"rho\", \"u\", \"v\", \"p\", \"Mach\"\n",
    "ZONE T=\"1\", I= 100, J= 40, K= 1\n",
    "0.050000 0.050000 0.000000 1.400000 2.000000 0.000000 1.000000 2.000000\n",
    "0.150000 0.050000 0.000000 1.400000 2.000000 0.000000 1.000000 2.000000\n",
    "0.250000 0.050000 0.000000 1.400000 2.000000 0.000000 1.000000 2.000000\n",
    "...`\n",
    "\n",
    "- dòng đầu tiên là tên gọi\n",
    "- dòng thứ hai là tên các biến\n",
    "- dòng thứ ba là tên, kích thước vùng lưới\n",
    "- các dòng tiếp theo là giá trị các biến\n",
    "\n",
    "Ta cần hai hàm xuất lưới và nhập lưới. Thông tin mà ta lưu trữ và đọc là `kích thước và tọa độ lưới`:"
   ]
  },
  {
   "cell_type": "code",
   "execution_count": 105,
   "metadata": {},
   "outputs": [],
   "source": [
    "# module function.py \n",
    "# Hàm xuất lưới\n",
    "def export_mesh(Nj, Ni, points, file_name):\n",
    "    f = open(file_name, 'w')\n",
    "    f.write('TITLE = \"vncfd python\"\\n')\n",
    "    f.write('VARIABLES = \"X\", \"Y\"\\n')\n",
    "    f.write('ZONE T=\"1\", I= %d, J= %d\\n' % (Ni, Nj))\n",
    "    for j in range(Nj):\n",
    "        for i in range(Ni):\n",
    "            f.write('%f %f\\n' % (points[j, i, 0], points[j, i, 1]))\n",
    "    f.close()\n",
    "\n",
    "\n",
    "# Hàm đọc lưới\n",
    "def import_mesh(file_name, dl=' '):\n",
    "    print('\\nImport mesh from: %s\\n' % file_name)\n",
    "    f = open(file_name, 'r')\n",
    "\n",
    "    # đọc và hiện ra màn hình 3 dòng đầu\n",
    "    for i in range(3):\n",
    "        line = f.readline()\n",
    "        print(line)\n",
    "\n",
    "    # lấy giá trị Ni, Nj\n",
    "    words = line.split()  # chia dòng cuối ra thành các từ riêng biệt bằng dấu cách ' '\n",
    "    Nj = int(words[-1])  # từ cuối cùng là Nj\n",
    "    Ni = int(words[-3].replace(',', ''))  # từ thứ 3 tứ cuối lên bỏ dấu ',' là Ni\n",
    "\n",
    "    f.close()\n",
    "\n",
    "    # đọc tọa độ các điểm lưới bằng hàm loadtxt, bỏ 3 hàng đầu\n",
    "    # dùng reshape để chuyển mảng về 3 chiều\n",
    "    points = loadtxt(file_name, skiprows=3, usecols=(0,1), delimiter=dl).reshape((Nj, Ni, 2))\n",
    "\n",
    "    return Nj, Ni, points"
   ]
  },
  {
   "cell_type": "code",
   "execution_count": 106,
   "metadata": {},
   "outputs": [],
   "source": [
    "# Lưu lưới vừa được tạo \n",
    "export_mesh(Nj, Ni, points, 'data/mach_2_mesh.dat')"
   ]
  },
  {
   "cell_type": "markdown",
   "metadata": {},
   "source": [
    "Dùng Paraview để xem, kiểm tra lưới chúng ta vừa ghi.\n",
    "\n",
    "<img src='img\\Bai_19_2.png' width = 600>"
   ]
  },
  {
   "cell_type": "code",
   "execution_count": 116,
   "metadata": {},
   "outputs": [],
   "source": [
    "# Kiểm tra lại việc ghi, đọc lưới\n",
    "# # Gọi hàm import_mesh \n",
    "# Nj, Ni, points = import_mesh('data/mach_2_mesh.dat')\n",
    "# # Kiểm tra giá trị Nj, Ni\n",
    "# print(Nj, Ni)\n",
    "# # Kiểm tra tọa độ y của cột đầu tiên\n",
    "# print(points[:, 0, 1])\n",
    "# # Kiểm tra tọa độ x của hàng đầu tiên \n",
    "# print(points[0, :, 0])"
   ]
  },
  {
   "cell_type": "markdown",
   "metadata": {},
   "source": [
    "Hãy lưu hàm tạo lưới vào module `mesh_generator.py`, hai hàm xuất và đọc lưới vào module `functions.py` trước khi sang bài thực hành mới.\n",
    "\n",
    "# [Bài 20. Cấu trúc dữ liệu](Bai_20.ipynb)"
   ]
  },
  {
   "cell_type": "code",
   "execution_count": null,
   "metadata": {},
   "outputs": [],
   "source": []
  }
 ],
 "metadata": {
  "kernelspec": {
   "display_name": "Python 2",
   "language": "python",
   "name": "python2"
  },
  "language_info": {
   "codemirror_mode": {
    "name": "ipython",
    "version": 2
   },
   "file_extension": ".py",
   "mimetype": "text/x-python",
   "name": "python",
   "nbconvert_exporter": "python",
   "pygments_lexer": "ipython2",
   "version": "2.7.15+"
  }
 },
 "nbformat": 4,
 "nbformat_minor": 2
}

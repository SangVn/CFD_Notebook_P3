{
 "cells": [
  {
   "cell_type": "markdown",
   "metadata": {},
   "source": [
    "Tài liệu này mang giấy phép Creative Commons Attribution (CC BY). (c) Nguyễn Ngọc Sáng, Zhukovsky 06/2019.\n",
    "\n",
    "[@SangVn](https://github.com/SangVn) [@VnCFD](https://vncfdgroup.wordpress.com/)\n",
    "\n",
    "*Thực hành CFD với Python!*"
   ]
  },
  {
   "cell_type": "markdown",
   "metadata": {},
   "source": [
    "# Bài 23. Thiết lập module setup, run. Tính bài toán dòng chảy trên âm qua dốc \n",
    "\n",
    "Để giải quyết bài toán dòng chảy trên âm qua dốc, cần thiết lập các thông số cần thiết trong module `setup.py` và gọi các hàm tính trong `run.py`.\n",
    "\n",
    "**1. Module setup:**\n",
    "- Hàm thiết lập các thông số trường ban đầu\n",
    "- Hàm thiết lập điều kiện biên\n",
    "- Các thông số khác: CFL, time_target, mesh_filename, field_filename..."
   ]
  },
  {
   "cell_type": "code",
   "execution_count": 2,
   "metadata": {},
   "outputs": [],
   "source": [
    "# coding: utf-8\n",
    "# Module setup.py\n",
    "\n",
    "from numpy import array\n",
    "from fluxes import flux_roe\n",
    "from boco import boco_dict, set_freestream\n",
    "from functions import P2U, rho\n",
    "\n",
    "P_inflow = array([rho(293.15, 101325.0), 660.0, 0.0, 101325.0]) # freestream\n",
    "\n",
    "# cho thông số ban đầu bằng thông số dòng chảy vào \n",
    "def init_field(cells):\n",
    "    P_t0 = P_inflow\n",
    "    U_t0 = P2U(P_t0)\n",
    "    for cell in cells[:]:\n",
    "        cell.P = P_t0.copy()\n",
    "        cell.U = U_t0.copy()\n",
    "    \n",
    "# điều kiện biên\n",
    "def set_boco(sides):\n",
    "    set_freestream(P_inflow)\n",
    "    boco_name = ['supersonic_inflow', 'supersonic_outflow', 'wall', 'wall']\n",
    "    boco_func = [boco_dict[name] for name in boco_name]\n",
    "    sides.set_boco(boco_func)\n",
    "\n",
    "# các thông số khác\n",
    "CFL = 0.85\n",
    "time_target = None\n",
    "iter_target = 1500\n",
    "\n",
    "write_field_iter = 1000 # thời điểm ghi kết quả giữa chừng\n",
    "flux_func = flux_roe\n",
    "\n",
    "mesh_filename = 'data/mach_2_mesh.dat'\n",
    "field_filename = 'data/mach_2_cell_data.dat'"
   ]
  },
  {
   "cell_type": "markdown",
   "metadata": {},
   "source": [
    "**2. Module run:**\n",
    "- Nhập lưới: xác định kích thước Nj, Ni và tạo độ điểm lưới\n",
    "- Tạo lớp dữ liệu cells, sides\n",
    "- Thiết lập, lưu trường ban đầu. **Trong trường hợp ta muốn lấy kết quả đã có để tiếp tục tính toán thì không cần thực hiện bước này**\n",
    "- Đọc trường ban đầu\n",
    "- Gọi hàm solver để giải quyết bài toán\n",
    "- Biểu diễn kết quả "
   ]
  },
  {
   "cell_type": "code",
   "execution_count": null,
   "metadata": {},
   "outputs": [],
   "source": [
    "# coding: utf-8\n",
    "from data import Cells, Sides\n",
    "from setup import init_field, mesh_filename, field_filename\n",
    "from solver import eu_solver\n",
    "from functions import import_mesh, read_field, write_cell_data, write_block_data, show_field, show_point_data\n",
    "\n",
    "def run():\n",
    "    # nhập lưới\n",
    "    Nj, Ni, points = import_mesh(mesh_filename)\n",
    "\n",
    "    # tạo dữ liệu cells, sides\n",
    "    cells = Cells(Nj-1, Ni-1, points)\n",
    "    sides = Sides(points, cells)\n",
    "\n",
    "    # thiết lập trường ban đầu\n",
    "    iter, time = 0, 0.0\n",
    "    init_field(cells)\n",
    "    write_cell_data(cells, iter, time, field_filename)\n",
    "\n",
    "    # đọc trường ban đầu\n",
    "    iter, time = read_field(cells, field_filename)\n",
    "\n",
    "    # gọi eu_solver\n",
    "    eu_solver(cells, sides, iter, time)\n",
    "    \n",
    "    # lưu kết quả ở dạng block_data \n",
    "    write_block_data(cells, points, iter, time, field_filename.replace('cell_data.dat', 'block_data.dat'))\n",
    "\n",
    "    # biểu diễn kết quả, lưu ảnh\n",
    "    show_field(cells, points, porc=1)\n",
    "\n",
    "if __name__ == '__main__':\n",
    "    run()"
   ]
  },
  {
   "cell_type": "markdown",
   "metadata": {},
   "source": [
    "Như vậy ta có các module: **mesh.py, data.py, fluxes.py, solver.py, setup.py, run.py**. Thay đổi thời gian hoặc số vòng lặp trong `setup.py`, cho chạy module `run.py` thu được các kết quả như sau: \n",
    "<img src='img/Bai_23_1.gif'>\n",
    "<img src='img/Bai_23_2.png' width = 600>\n",
    "\n",
    "Về cách tạo file .gif hay clip hãy xem lại phần 1, [bài 9](https://nbviewer.jupyter.org/github/SangVn/CFD_Notebook_P1/blob/master/Bai_9.ipynb)\n",
    "\n",
    "Bây giờ, để giải một bài toán khác chúng ta cần thay đổi những gì? Ở bài sau ta sẽ bàn luận về vấn đề này.\n",
    "## [Bài 24. Bài toán dòng chảy quanh hình trụ, NACA0012, Crew Dragon. Điều kiện biên `joint, farfield`](Bai_24.ipynb)"
   ]
  },
  {
   "cell_type": "code",
   "execution_count": null,
   "metadata": {},
   "outputs": [],
   "source": []
  }
 ],
 "metadata": {
  "kernelspec": {
   "display_name": "Python 2",
   "language": "python",
   "name": "python2"
  },
  "language_info": {
   "codemirror_mode": {
    "name": "ipython",
    "version": 2
   },
   "file_extension": ".py",
   "mimetype": "text/x-python",
   "name": "python",
   "nbconvert_exporter": "python",
   "pygments_lexer": "ipython2",
   "version": "2.7.15+"
  }
 },
 "nbformat": 4,
 "nbformat_minor": 2
}

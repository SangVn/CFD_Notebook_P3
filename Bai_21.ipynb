{
 "cells": [
  {
   "cell_type": "markdown",
   "metadata": {},
   "source": [
    "Tài liệu này mang giấy phép Creative Commons Attribution (CC BY). (c) Nguyễn Ngọc Sáng, Zhukovsky 06/2019.\n",
    "\n",
    "[@SangVn](https://github.com/SangVn) [@VnCFD](https://vncfdgroup.wordpress.com/)\n",
    "\n",
    "*Thực hành CFD với Python!*"
   ]
  },
  {
   "cell_type": "markdown",
   "metadata": {},
   "source": [
    "# Bài 21. Điều kiện biên `supersonic, wall`\n",
    "\n",
    "Điều kiện biên là một phần không thể thiếu của bất kì chương trình CFD nào và nó có ảnh hưởng lớn tới kết quả tính toán. Có nhiều loại điều kiện khác nhau, ở đây để giải quyết bài toán dòng chảy trên âm đưa ra ở bài 19, ta cần ba điều kiện biên **supersonic_inflow, supersonic_outflow, wall (no_slip)**:\n",
    "\n",
    "<img src='img\\Bai_19_1.png' width=550>\n",
    "\n",
    "\n",
    "## 1. Điều kiện biên supersonic\n",
    "Như đã giới thiệu ở phần 2 về đường đặc trưng và cách xác định nghiệm của bài toán phân rã trên biên, trong trường hợp dòng trên âm (chảy từ trái sang phải), các đường đặc trưng đều hướng sang phải, do đó các thông số P trên biên lấy bằng thông số ở bên trái. Ta có:\n",
    "* Điều kiện biên **supersonic_inflow**: thông số trên biên bằng thông số của dòng tự do P_freestream \n",
    "* Điều kiện biên **supersonic_outflow**: thông số trên biên bằng thông số trong ô lưới bên trong side\n",
    "\n",
    "<br>Sau khi xác định thông số trên biên ta làm tiếp hai bước:\n",
    "* Tính dòng qua biên\n",
    "* Căn cứ vào vị trí của ô lưới kề biên là trái hay phải (dựa vào chỉ số của ô lưới 0, 1) để thêm bớt dòng vào tổng dòng trong ô lưới `res`."
   ]
  },
  {
   "cell_type": "code",
   "execution_count": 1,
   "metadata": {},
   "outputs": [],
   "source": [
    "# Định nghĩa hàm tính dòng qua mặt trong module functions.py\n",
    "\n",
    "# Hàm P2F: tính dòng qua mặt (công thức ở bài 18)\n",
    "def P2F(P, side):\n",
    "    n = side.normal    #vector pháp tuyến đơn vị của mặt\n",
    "    vn = n.dot(P[1:3]) #vận tốc vuông góc bề mặt V.n\n",
    "    F = zeros(4)\n",
    "    F[0] = P[0] * vn\n",
    "    F[1] = F[0] * P[1] + P[3] * n[0]\n",
    "    F[2] = F[0] * P[2] + P[3] * n[1]\n",
    "    F[3] = F[0] * (P[3] / P[0] * gamma / (gamma - 1.0) + 0.5 * (P[1] ** 2 + P[2] ** 2))\n",
    "    return F * side.area"
   ]
  },
  {
   "cell_type": "markdown",
   "metadata": {},
   "source": [
    "Module `boco.py`:"
   ]
  },
  {
   "cell_type": "code",
   "execution_count": 4,
   "metadata": {},
   "outputs": [],
   "source": [
    "# coding: utf-8\n",
    "\n",
    "from functions import P2F\n",
    "\n",
    "# thông số dòng tự do\n",
    "P_freestream = None\n",
    "\n",
    "# Hàm thiết lập thông số dòng tự do \n",
    "def set_freestream(P):\n",
    "    global P_freestream\n",
    "    P_freestream = P\n",
    "    \n",
    "# Hàm sign_ic: xác định `thêm hay bớt` dòng ở ô lưới kề bên side\n",
    "def sign_ic(ic): #ic ~ index_cell; left_cell: ic = 0; right_cell: ic = 1\n",
    "    if ic == 0: return -1.0 # res -= flux\n",
    "    else: return 1.0        # res += flux\n",
    "\n",
    "# Điều kiện dòng chảy vào trên âm\n",
    "# P_side = P_freestream\n",
    "def supersonic_inflow(boundary, ic):\n",
    "    for side in boundary:\n",
    "        F = P2F(P_freestream, side)\n",
    "        side.cells[ic].res += sign_ic(ic)*F\n",
    "\n",
    "# Điều kiện dòng chảy ra trên âm\n",
    "# P_side = P_in\n",
    "def supersonic_outflow(boundary, ic):\n",
    "    for side in boundary:\n",
    "        F = P2F(side.cells[ic].P, side)\n",
    "        side.cells[ic].res += sign_ic(ic)*F"
   ]
  },
  {
   "cell_type": "markdown",
   "metadata": {},
   "source": [
    "## 2. Điều kiện biên wall (no_slip)\n",
    "Trên biên wall (bề mặt rắn, không thẩm thấu, không nhám, không trượt) vận tốc dòng chảy bằng không, tức là $(u,v)=(0,0)$, đối với áp suất và khối lượng riêng ta lấy gradient $(\\partial /\\partial n)$ bằng không."
   ]
  },
  {
   "cell_type": "code",
   "execution_count": 2,
   "metadata": {},
   "outputs": [],
   "source": [
    "# Điều kiện biên wal_no_slip\n",
    "# P_side: u=v=0, dp/dn=0, drho/dn=0\n",
    "def wall_no_slip(boundary, ic):\n",
    "    for side in boundary:\n",
    "        P = [side.cells[ic].P[0], 0.0, 0.0, side.cells[ic].P[3]]\n",
    "        F = P2F(P, side)\n",
    "        side.cells[ic].res += sign_ic(ic)*F\n",
    "\n",
    "# ta có `từ điển` điều kiện biên: <tên gọi> : <hàm đkb>\n",
    "boco_dict = {'supersonic_inflow': supersonic_inflow, 'supersonic_outflow': supersonic_outflow, 'wall': wall_no_slip}"
   ]
  },
  {
   "cell_type": "markdown",
   "metadata": {},
   "source": [
    "Quay trở lại với bài 20, trong hàm tính dòng qua biên `boco(boundary_ib, ic)` *boco* là một trong ba điều kiện ở trên.\n",
    "\n",
    "Tiếp theo, chúng ta cần giải bài toán phân rã gián đoạn để tính dòng qua các biên nằm bên trong vùng tính toán.\n",
    "# [Bài 22. Phương pháp tính dòng qua mặt, xử lý kết quả, module solver](Bai_22.ipynb)"
   ]
  },
  {
   "cell_type": "code",
   "execution_count": null,
   "metadata": {},
   "outputs": [],
   "source": []
  }
 ],
 "metadata": {
  "kernelspec": {
   "display_name": "Python 2",
   "language": "python",
   "name": "python2"
  },
  "language_info": {
   "codemirror_mode": {
    "name": "ipython",
    "version": 2
   },
   "file_extension": ".py",
   "mimetype": "text/x-python",
   "name": "python",
   "nbconvert_exporter": "python",
   "pygments_lexer": "ipython2",
   "version": "2.7.15+"
  }
 },
 "nbformat": 4,
 "nbformat_minor": 2
}
